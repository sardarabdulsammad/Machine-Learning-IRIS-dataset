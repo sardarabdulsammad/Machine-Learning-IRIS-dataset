{
 "cells": [
  {
   "cell_type": "markdown",
   "id": "3a050798",
   "metadata": {},
   "source": [
    "# Houseprice Prediction "
   ]
  },
  {
   "cell_type": "code",
   "execution_count": 2,
   "id": "d5c6c524",
   "metadata": {},
   "outputs": [],
   "source": [
    "import numpy as np # linear algebra\n",
    "import pandas as pd # data processing, CSV file I/O (e.g. pd.read_csv)\n",
    "from pandas import read_csv\n",
    "import sklearn "
   ]
  },
  {
   "cell_type": "code",
   "execution_count": 3,
   "id": "368039f8",
   "metadata": {},
   "outputs": [
    {
     "data": {
      "text/html": [
       "<div>\n",
       "<style scoped>\n",
       "    .dataframe tbody tr th:only-of-type {\n",
       "        vertical-align: middle;\n",
       "    }\n",
       "\n",
       "    .dataframe tbody tr th {\n",
       "        vertical-align: top;\n",
       "    }\n",
       "\n",
       "    .dataframe thead th {\n",
       "        text-align: right;\n",
       "    }\n",
       "</style>\n",
       "<table border=\"1\" class=\"dataframe\">\n",
       "  <thead>\n",
       "    <tr style=\"text-align: right;\">\n",
       "      <th></th>\n",
       "      <th>CRIM</th>\n",
       "      <th>ZN</th>\n",
       "      <th>INDUS</th>\n",
       "      <th>CHAS</th>\n",
       "      <th>NOX</th>\n",
       "      <th>RM</th>\n",
       "      <th>AGE</th>\n",
       "      <th>DIS</th>\n",
       "      <th>RAD</th>\n",
       "      <th>TAX</th>\n",
       "      <th>PTRATIO</th>\n",
       "      <th>B</th>\n",
       "      <th>LSTAT</th>\n",
       "      <th>MEDV</th>\n",
       "    </tr>\n",
       "  </thead>\n",
       "  <tbody>\n",
       "    <tr>\n",
       "      <th>0</th>\n",
       "      <td>0.00632</td>\n",
       "      <td>18.0</td>\n",
       "      <td>2.31</td>\n",
       "      <td>0</td>\n",
       "      <td>0.538</td>\n",
       "      <td>6.575</td>\n",
       "      <td>65.2</td>\n",
       "      <td>4.0900</td>\n",
       "      <td>1</td>\n",
       "      <td>296.0</td>\n",
       "      <td>15.3</td>\n",
       "      <td>396.90</td>\n",
       "      <td>4.98</td>\n",
       "      <td>24.0</td>\n",
       "    </tr>\n",
       "    <tr>\n",
       "      <th>1</th>\n",
       "      <td>0.02731</td>\n",
       "      <td>0.0</td>\n",
       "      <td>7.07</td>\n",
       "      <td>0</td>\n",
       "      <td>0.469</td>\n",
       "      <td>6.421</td>\n",
       "      <td>78.9</td>\n",
       "      <td>4.9671</td>\n",
       "      <td>2</td>\n",
       "      <td>242.0</td>\n",
       "      <td>17.8</td>\n",
       "      <td>396.90</td>\n",
       "      <td>9.14</td>\n",
       "      <td>21.6</td>\n",
       "    </tr>\n",
       "    <tr>\n",
       "      <th>2</th>\n",
       "      <td>0.02729</td>\n",
       "      <td>0.0</td>\n",
       "      <td>7.07</td>\n",
       "      <td>0</td>\n",
       "      <td>0.469</td>\n",
       "      <td>7.185</td>\n",
       "      <td>61.1</td>\n",
       "      <td>4.9671</td>\n",
       "      <td>2</td>\n",
       "      <td>242.0</td>\n",
       "      <td>17.8</td>\n",
       "      <td>392.83</td>\n",
       "      <td>4.03</td>\n",
       "      <td>34.7</td>\n",
       "    </tr>\n",
       "    <tr>\n",
       "      <th>3</th>\n",
       "      <td>0.03237</td>\n",
       "      <td>0.0</td>\n",
       "      <td>2.18</td>\n",
       "      <td>0</td>\n",
       "      <td>0.458</td>\n",
       "      <td>6.998</td>\n",
       "      <td>45.8</td>\n",
       "      <td>6.0622</td>\n",
       "      <td>3</td>\n",
       "      <td>222.0</td>\n",
       "      <td>18.7</td>\n",
       "      <td>394.63</td>\n",
       "      <td>2.94</td>\n",
       "      <td>33.4</td>\n",
       "    </tr>\n",
       "    <tr>\n",
       "      <th>4</th>\n",
       "      <td>0.06905</td>\n",
       "      <td>0.0</td>\n",
       "      <td>2.18</td>\n",
       "      <td>0</td>\n",
       "      <td>0.458</td>\n",
       "      <td>7.147</td>\n",
       "      <td>54.2</td>\n",
       "      <td>6.0622</td>\n",
       "      <td>3</td>\n",
       "      <td>222.0</td>\n",
       "      <td>18.7</td>\n",
       "      <td>396.90</td>\n",
       "      <td>5.33</td>\n",
       "      <td>36.2</td>\n",
       "    </tr>\n",
       "  </tbody>\n",
       "</table>\n",
       "</div>"
      ],
      "text/plain": [
       "      CRIM    ZN  INDUS  CHAS    NOX     RM   AGE     DIS  RAD    TAX  \\\n",
       "0  0.00632  18.0   2.31     0  0.538  6.575  65.2  4.0900    1  296.0   \n",
       "1  0.02731   0.0   7.07     0  0.469  6.421  78.9  4.9671    2  242.0   \n",
       "2  0.02729   0.0   7.07     0  0.469  7.185  61.1  4.9671    2  242.0   \n",
       "3  0.03237   0.0   2.18     0  0.458  6.998  45.8  6.0622    3  222.0   \n",
       "4  0.06905   0.0   2.18     0  0.458  7.147  54.2  6.0622    3  222.0   \n",
       "\n",
       "   PTRATIO       B  LSTAT  MEDV  \n",
       "0     15.3  396.90   4.98  24.0  \n",
       "1     17.8  396.90   9.14  21.6  \n",
       "2     17.8  392.83   4.03  34.7  \n",
       "3     18.7  394.63   2.94  33.4  \n",
       "4     18.7  396.90   5.33  36.2  "
      ]
     },
     "execution_count": 3,
     "metadata": {},
     "output_type": "execute_result"
    }
   ],
   "source": [
    "newdata= pd.read_csv(\"housing.csv\")\n",
    "column_names = ['CRIM', 'ZN', 'INDUS', 'CHAS', 'NOX', 'RM', 'AGE', 'DIS', 'RAD', 'TAX', 'PTRATIO', 'B', 'LSTAT', 'MEDV']\n",
    "data = read_csv('housing.csv', header=None, delimiter=r\"\\s+\", names=column_names)\n",
    "data.head()\n",
    "df=pd.DataFrame(data)\n",
    "df.head()"
   ]
  },
  {
   "cell_type": "code",
   "execution_count": 3,
   "id": "9953f33a",
   "metadata": {},
   "outputs": [],
   "source": [
    "# from pandas_profiling import ProfileReport\n",
    "# prof=ProfileReport(df)\n",
    "# prof.to_file(output_file=\"output_houses.html\")\n"
   ]
  },
  {
   "cell_type": "markdown",
   "id": "8de6214a",
   "metadata": {},
   "source": [
    "## Train Test Spliting"
   ]
  },
  {
   "cell_type": "code",
   "execution_count": 4,
   "id": "0058de10",
   "metadata": {},
   "outputs": [],
   "source": [
    "from sklearn.model_selection import train_test_split\n",
    "train_set,test_set=train_test_split(data , test_size=0.2 , random_state=42)"
   ]
  },
  {
   "cell_type": "markdown",
   "id": "6cd4c3ec",
   "metadata": {},
   "source": [
    "# Stratified Sampling\n"
   ]
  },
  {
   "cell_type": "code",
   "execution_count": 5,
   "id": "79efb9ad",
   "metadata": {},
   "outputs": [],
   "source": [
    "from sklearn.model_selection import StratifiedShuffleSplit\n",
    "split = StratifiedShuffleSplit(n_splits=1, test_size=0.2, random_state=42)\n",
    "for train_index,test_index in split.split(df,df['CHAS']):\n",
    "    strat_train_set = df.loc[train_index]\n",
    "    strat_test_set = df.loc[test_index]"
   ]
  },
  {
   "cell_type": "code",
   "execution_count": 6,
   "id": "4ea939c5",
   "metadata": {},
   "outputs": [
    {
     "data": {
      "text/plain": [
       "0    376\n",
       "1     28\n",
       "Name: CHAS, dtype: int64"
      ]
     },
     "execution_count": 6,
     "metadata": {},
     "output_type": "execute_result"
    }
   ],
   "source": [
    "strat_train_set['CHAS'].value_counts()"
   ]
  },
  {
   "cell_type": "code",
   "execution_count": 7,
   "id": "e24804ac",
   "metadata": {},
   "outputs": [
    {
     "data": {
      "text/plain": [
       "0    95\n",
       "1     7\n",
       "Name: CHAS, dtype: int64"
      ]
     },
     "execution_count": 7,
     "metadata": {},
     "output_type": "execute_result"
    }
   ],
   "source": [
    "strat_test_set['CHAS'].value_counts()"
   ]
  },
  {
   "cell_type": "markdown",
   "id": "c3bb2c87",
   "metadata": {},
   "source": [
    "# Standard Scalar--Standardization--Zscore Normalization"
   ]
  },
  {
   "cell_type": "code",
   "execution_count": 8,
   "id": "41288e4b",
   "metadata": {},
   "outputs": [],
   "source": [
    "from sklearn.preprocessing import StandardScaler\n",
    "scalar=StandardScaler()\n",
    "scalar.fit(strat_train_set)\n",
    "scaled_Train = scalar.transform(strat_train_set)\n",
    "scaled_Test=scalar.transform(strat_test_set)"
   ]
  },
  {
   "cell_type": "code",
   "execution_count": 9,
   "id": "e7ed8592",
   "metadata": {},
   "outputs": [],
   "source": [
    "scaled_Train = pd.DataFrame(scaled_Train,columns=strat_train_set.columns)\n",
    "Scaled_Test = pd.DataFrame(scaled_Test,columns = strat_test_set.columns)"
   ]
  },
  {
   "cell_type": "code",
   "execution_count": 10,
   "id": "6931c5dc",
   "metadata": {},
   "outputs": [
    {
     "data": {
      "text/html": [
       "<div>\n",
       "<style scoped>\n",
       "    .dataframe tbody tr th:only-of-type {\n",
       "        vertical-align: middle;\n",
       "    }\n",
       "\n",
       "    .dataframe tbody tr th {\n",
       "        vertical-align: top;\n",
       "    }\n",
       "\n",
       "    .dataframe thead th {\n",
       "        text-align: right;\n",
       "    }\n",
       "</style>\n",
       "<table border=\"1\" class=\"dataframe\">\n",
       "  <thead>\n",
       "    <tr style=\"text-align: right;\">\n",
       "      <th></th>\n",
       "      <th>CRIM</th>\n",
       "      <th>ZN</th>\n",
       "      <th>INDUS</th>\n",
       "      <th>CHAS</th>\n",
       "      <th>NOX</th>\n",
       "      <th>RM</th>\n",
       "      <th>AGE</th>\n",
       "      <th>DIS</th>\n",
       "      <th>RAD</th>\n",
       "      <th>TAX</th>\n",
       "      <th>PTRATIO</th>\n",
       "      <th>B</th>\n",
       "      <th>LSTAT</th>\n",
       "      <th>MEDV</th>\n",
       "    </tr>\n",
       "  </thead>\n",
       "  <tbody>\n",
       "    <tr>\n",
       "      <th>count</th>\n",
       "      <td>4.040000e+02</td>\n",
       "      <td>4.040000e+02</td>\n",
       "      <td>4.040000e+02</td>\n",
       "      <td>4.040000e+02</td>\n",
       "      <td>4.040000e+02</td>\n",
       "      <td>4.040000e+02</td>\n",
       "      <td>4.040000e+02</td>\n",
       "      <td>4.040000e+02</td>\n",
       "      <td>4.040000e+02</td>\n",
       "      <td>4.040000e+02</td>\n",
       "      <td>4.040000e+02</td>\n",
       "      <td>4.040000e+02</td>\n",
       "      <td>4.040000e+02</td>\n",
       "      <td>4.040000e+02</td>\n",
       "    </tr>\n",
       "    <tr>\n",
       "      <th>mean</th>\n",
       "      <td>4.493106e-17</td>\n",
       "      <td>-1.231138e-16</td>\n",
       "      <td>1.178925e-16</td>\n",
       "      <td>1.319077e-16</td>\n",
       "      <td>-6.519812e-17</td>\n",
       "      <td>5.661038e-17</td>\n",
       "      <td>-7.158740e-17</td>\n",
       "      <td>1.610373e-16</td>\n",
       "      <td>8.216750e-17</td>\n",
       "      <td>-1.198161e-16</td>\n",
       "      <td>-7.123015e-16</td>\n",
       "      <td>-5.089438e-16</td>\n",
       "      <td>-1.943921e-16</td>\n",
       "      <td>2.684528e-16</td>\n",
       "    </tr>\n",
       "    <tr>\n",
       "      <th>std</th>\n",
       "      <td>1.001240e+00</td>\n",
       "      <td>1.001240e+00</td>\n",
       "      <td>1.001240e+00</td>\n",
       "      <td>1.001240e+00</td>\n",
       "      <td>1.001240e+00</td>\n",
       "      <td>1.001240e+00</td>\n",
       "      <td>1.001240e+00</td>\n",
       "      <td>1.001240e+00</td>\n",
       "      <td>1.001240e+00</td>\n",
       "      <td>1.001240e+00</td>\n",
       "      <td>1.001240e+00</td>\n",
       "      <td>1.001240e+00</td>\n",
       "      <td>1.001240e+00</td>\n",
       "      <td>1.001240e+00</td>\n",
       "    </tr>\n",
       "    <tr>\n",
       "      <th>min</th>\n",
       "      <td>-4.445960e-01</td>\n",
       "      <td>-4.898311e-01</td>\n",
       "      <td>-1.543818e+00</td>\n",
       "      <td>-2.728884e-01</td>\n",
       "      <td>-1.448328e+00</td>\n",
       "      <td>-3.818154e+00</td>\n",
       "      <td>-2.343452e+00</td>\n",
       "      <td>-1.248110e+00</td>\n",
       "      <td>-1.001686e+00</td>\n",
       "      <td>-1.337627e+00</td>\n",
       "      <td>-2.573710e+00</td>\n",
       "      <td>-3.679748e+00</td>\n",
       "      <td>-1.530642e+00</td>\n",
       "      <td>-1.867887e+00</td>\n",
       "    </tr>\n",
       "    <tr>\n",
       "      <th>25%</th>\n",
       "      <td>-4.346270e-01</td>\n",
       "      <td>-4.898311e-01</td>\n",
       "      <td>-8.960085e-01</td>\n",
       "      <td>-2.728884e-01</td>\n",
       "      <td>-9.000550e-01</td>\n",
       "      <td>-5.633454e-01</td>\n",
       "      <td>-8.570894e-01</td>\n",
       "      <td>-8.157735e-01</td>\n",
       "      <td>-6.576668e-01</td>\n",
       "      <td>-7.618351e-01</td>\n",
       "      <td>-5.046855e-01</td>\n",
       "      <td>2.212050e-01</td>\n",
       "      <td>-8.225115e-01</td>\n",
       "      <td>-6.304100e-01</td>\n",
       "    </tr>\n",
       "    <tr>\n",
       "      <th>50%</th>\n",
       "      <td>-4.099313e-01</td>\n",
       "      <td>-4.898311e-01</td>\n",
       "      <td>-2.103490e-01</td>\n",
       "      <td>-2.728884e-01</td>\n",
       "      <td>-1.718802e-01</td>\n",
       "      <td>-9.817215e-02</td>\n",
       "      <td>3.245603e-01</td>\n",
       "      <td>-2.976495e-01</td>\n",
       "      <td>-5.429938e-01</td>\n",
       "      <td>-4.472273e-01</td>\n",
       "      <td>2.476870e-01</td>\n",
       "      <td>3.914755e-01</td>\n",
       "      <td>-1.690392e-01</td>\n",
       "      <td>-1.450202e-01</td>\n",
       "    </tr>\n",
       "    <tr>\n",
       "      <th>75%</th>\n",
       "      <td>1.596030e-02</td>\n",
       "      <td>7.518650e-02</td>\n",
       "      <td>9.833681e-01</td>\n",
       "      <td>-2.728884e-01</td>\n",
       "      <td>6.248287e-01</td>\n",
       "      <td>4.919835e-01</td>\n",
       "      <td>8.879256e-01</td>\n",
       "      <td>6.459421e-01</td>\n",
       "      <td>1.635794e+00</td>\n",
       "      <td>1.505715e+00</td>\n",
       "      <td>8.119664e-01</td>\n",
       "      <td>4.401987e-01</td>\n",
       "      <td>5.965162e-01</td>\n",
       "      <td>2.656943e-01</td>\n",
       "    </tr>\n",
       "    <tr>\n",
       "      <th>max</th>\n",
       "      <td>8.644855e+00</td>\n",
       "      <td>4.030310e+00</td>\n",
       "      <td>2.386714e+00</td>\n",
       "      <td>3.664502e+00</td>\n",
       "      <td>2.680852e+00</td>\n",
       "      <td>3.510870e+00</td>\n",
       "      <td>1.096973e+00</td>\n",
       "      <td>3.997357e+00</td>\n",
       "      <td>1.635794e+00</td>\n",
       "      <td>1.772835e+00</td>\n",
       "      <td>1.658385e+00</td>\n",
       "      <td>4.534347e-01</td>\n",
       "      <td>3.347050e+00</td>\n",
       "      <td>2.932671e+00</td>\n",
       "    </tr>\n",
       "  </tbody>\n",
       "</table>\n",
       "</div>"
      ],
      "text/plain": [
       "               CRIM            ZN         INDUS          CHAS           NOX  \\\n",
       "count  4.040000e+02  4.040000e+02  4.040000e+02  4.040000e+02  4.040000e+02   \n",
       "mean   4.493106e-17 -1.231138e-16  1.178925e-16  1.319077e-16 -6.519812e-17   \n",
       "std    1.001240e+00  1.001240e+00  1.001240e+00  1.001240e+00  1.001240e+00   \n",
       "min   -4.445960e-01 -4.898311e-01 -1.543818e+00 -2.728884e-01 -1.448328e+00   \n",
       "25%   -4.346270e-01 -4.898311e-01 -8.960085e-01 -2.728884e-01 -9.000550e-01   \n",
       "50%   -4.099313e-01 -4.898311e-01 -2.103490e-01 -2.728884e-01 -1.718802e-01   \n",
       "75%    1.596030e-02  7.518650e-02  9.833681e-01 -2.728884e-01  6.248287e-01   \n",
       "max    8.644855e+00  4.030310e+00  2.386714e+00  3.664502e+00  2.680852e+00   \n",
       "\n",
       "                 RM           AGE           DIS           RAD           TAX  \\\n",
       "count  4.040000e+02  4.040000e+02  4.040000e+02  4.040000e+02  4.040000e+02   \n",
       "mean   5.661038e-17 -7.158740e-17  1.610373e-16  8.216750e-17 -1.198161e-16   \n",
       "std    1.001240e+00  1.001240e+00  1.001240e+00  1.001240e+00  1.001240e+00   \n",
       "min   -3.818154e+00 -2.343452e+00 -1.248110e+00 -1.001686e+00 -1.337627e+00   \n",
       "25%   -5.633454e-01 -8.570894e-01 -8.157735e-01 -6.576668e-01 -7.618351e-01   \n",
       "50%   -9.817215e-02  3.245603e-01 -2.976495e-01 -5.429938e-01 -4.472273e-01   \n",
       "75%    4.919835e-01  8.879256e-01  6.459421e-01  1.635794e+00  1.505715e+00   \n",
       "max    3.510870e+00  1.096973e+00  3.997357e+00  1.635794e+00  1.772835e+00   \n",
       "\n",
       "            PTRATIO             B         LSTAT          MEDV  \n",
       "count  4.040000e+02  4.040000e+02  4.040000e+02  4.040000e+02  \n",
       "mean  -7.123015e-16 -5.089438e-16 -1.943921e-16  2.684528e-16  \n",
       "std    1.001240e+00  1.001240e+00  1.001240e+00  1.001240e+00  \n",
       "min   -2.573710e+00 -3.679748e+00 -1.530642e+00 -1.867887e+00  \n",
       "25%   -5.046855e-01  2.212050e-01 -8.225115e-01 -6.304100e-01  \n",
       "50%    2.476870e-01  3.914755e-01 -1.690392e-01 -1.450202e-01  \n",
       "75%    8.119664e-01  4.401987e-01  5.965162e-01  2.656943e-01  \n",
       "max    1.658385e+00  4.534347e-01  3.347050e+00  2.932671e+00  "
      ]
     },
     "execution_count": 10,
     "metadata": {},
     "output_type": "execute_result"
    }
   ],
   "source": [
    "scaled_Train.describe()\n"
   ]
  },
  {
   "cell_type": "code",
   "execution_count": 12,
   "id": "2ddbf7b2",
   "metadata": {},
   "outputs": [],
   "source": [
    "X_newTrain=scaled_Train.drop(\"MEDV\", axis='columns')\n",
    "Y_newTrain=scaled_Train['MEDV']\n",
    "X_newTest=Scaled_Test.drop(\"MEDV\", axis='columns')\n",
    "Y_newTest=Scaled_Test['MEDV']\n"
   ]
  },
  {
   "cell_type": "code",
   "execution_count": 15,
   "id": "5992d691",
   "metadata": {},
   "outputs": [
    {
     "name": "stdout",
     "output_type": "stream",
     "text": [
      "0.7572684891063761\n"
     ]
    }
   ],
   "source": [
    "from sklearn.linear_model import LinearRegression\n",
    "regr = LinearRegression()\n",
    "regr.fit(X_newTrain, Y_newTrain)\n",
    "print(regr.score(X_newTest, Y_newTest))"
   ]
  },
  {
   "cell_type": "code",
   "execution_count": 19,
   "id": "8c801133",
   "metadata": {},
   "outputs": [
    {
     "name": "stdout",
     "output_type": "stream",
     "text": [
      "       CRIM        ZN     INDUS      CHAS       NOX        RM       AGE  \\\n",
      "0 -0.442289 -0.489831 -1.376407 -0.272888 -0.343215  0.365246 -0.330928   \n",
      "1  1.763291 -0.489831  0.983368 -0.272888  0.967499 -0.079916  1.096973   \n",
      "2 -0.369389 -0.489831 -0.748977 -0.272888 -0.437450  0.474781  0.416683   \n",
      "3 -0.431254 -0.489831  0.370496  3.664502 -0.069079  0.130728  0.827692   \n",
      "4 -0.413994 -0.489831 -0.645619 -0.272888 -0.942889 -1.237057  0.930444   \n",
      "\n",
      "        DIS       RAD       TAX   PTRATIO         B     LSTAT      MEDV  \n",
      "0  1.202357 -1.001686  0.057332 -1.210035  0.381106 -0.573092 -0.641078  \n",
      "1 -1.125761  1.635794  1.505715  0.811966  0.420501  1.243762 -1.313156  \n",
      "2 -0.226148 -0.198975 -0.625307 -0.504686  0.453435 -0.718385  0.809758  \n",
      "3 -0.182646 -0.542994 -0.809323 -0.974918  0.420501 -0.317100  0.052336  \n",
      "4  1.013037 -0.772340 -1.064571 -0.269569  0.453435  2.493281 -0.865104  \n"
     ]
    }
   ],
   "source": [
    "print(Scaled_Test.head())"
   ]
  },
  {
   "cell_type": "code",
   "execution_count": 23,
   "id": "ea88e7d4",
   "metadata": {},
   "outputs": [
    {
     "data": {
      "text/plain": [
       "array([ 0.01997362, -0.56362859,  0.80154733,  0.87671787, -1.45706185])"
      ]
     },
     "execution_count": 23,
     "metadata": {},
     "output_type": "execute_result"
    }
   ],
   "source": [
    "regr.predict(X_newTest.head())\n"
   ]
  },
  {
   "cell_type": "code",
   "execution_count": 22,
   "id": "eb53c2b2",
   "metadata": {},
   "outputs": [
    {
     "name": "stdout",
     "output_type": "stream",
     "text": [
      "0     -0.641078\n",
      "1     -1.313156\n",
      "2      0.809758\n",
      "3      0.052336\n",
      "4     -0.865104\n",
      "         ...   \n",
      "97     0.116344\n",
      "98    -0.374380\n",
      "99     0.265694\n",
      "100   -0.235697\n",
      "101   -0.107683\n",
      "Name: MEDV, Length: 102, dtype: float64\n"
     ]
    }
   ],
   "source": [
    "print(Y_newTest)"
   ]
  }
 ],
 "metadata": {
  "kernelspec": {
   "display_name": "Python 3 (ipykernel)",
   "language": "python",
   "name": "python3"
  },
  "language_info": {
   "codemirror_mode": {
    "name": "ipython",
    "version": 3
   },
   "file_extension": ".py",
   "mimetype": "text/x-python",
   "name": "python",
   "nbconvert_exporter": "python",
   "pygments_lexer": "ipython3",
   "version": "3.9.13"
  }
 },
 "nbformat": 4,
 "nbformat_minor": 5
}
